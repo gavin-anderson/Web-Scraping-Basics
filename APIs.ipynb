{
 "cells": [
  {
   "cell_type": "code",
   "execution_count": 1,
   "id": "f4f8b144",
   "metadata": {},
   "outputs": [],
   "source": [
    "from bs4 import BeautifulSoup\n",
    "import requests\n",
    "import pandas as pd"
   ]
  },
  {
   "cell_type": "code",
   "execution_count": 2,
   "id": "f32e16f7",
   "metadata": {},
   "outputs": [],
   "source": [
    "url ='https://www.programmableweb.com/category/tools/api'"
   ]
  },
  {
   "cell_type": "code",
   "execution_count": null,
   "id": "4991d1be",
   "metadata": {},
   "outputs": [],
   "source": [
    "response = requests.get(url)"
   ]
  },
  {
   "cell_type": "code",
   "execution_count": null,
   "id": "e67d577c",
   "metadata": {},
   "outputs": [],
   "source": [
    "response"
   ]
  },
  {
   "cell_type": "code",
   "execution_count": null,
   "id": "7bc1a656",
   "metadata": {},
   "outputs": [],
   "source": [
    "data= response.text\n",
    "soup=BeautifulSoup(data,'html.parser')\n"
   ]
  },
  {
   "cell_type": "code",
   "execution_count": null,
   "id": "b780be2d",
   "metadata": {},
   "outputs": [],
   "source": [
    "tags = soup.find_all('a')"
   ]
  },
  {
   "cell_type": "code",
   "execution_count": null,
   "id": "407f2469",
   "metadata": {},
   "outputs": [],
   "source": [
    "for tag in tags:\n",
    "    print(tag.get('href'))"
   ]
  },
  {
   "cell_type": "code",
   "execution_count": null,
   "id": "10ffc77f",
   "metadata": {},
   "outputs": [],
   "source": [
    "api_names=soup.find_all ('td',{'class': 'views-field views-field-title'}) \n"
   ]
  },
  {
   "cell_type": "code",
   "execution_count": null,
   "id": "19f02061",
   "metadata": {},
   "outputs": [],
   "source": [
    "for api_name in api_names:\n",
    "    print(api_name.text)"
   ]
  },
  {
   "cell_type": "code",
   "execution_count": null,
   "id": "b4bd050f",
   "metadata": {},
   "outputs": [],
   "source": [
    "tests = soup.find_all('tr')"
   ]
  },
  {
   "cell_type": "code",
   "execution_count": null,
   "id": "8433b8de",
   "metadata": {},
   "outputs": [],
   "source": [
    "for test in tests:\n",
    "    name_tag = test.find('a')\n",
    "    name = name_tag.text if name_tag else\"N/A\"\n",
    "    print(name)"
   ]
  },
  {
   "cell_type": "code",
   "execution_count": null,
   "id": "a727d745",
   "metadata": {},
   "outputs": [],
   "source": [
    "for test in tests:\n",
    "    description_tag = test.find('td',{'class':'views-field views-field-field-api-description'})\n",
    "    description = description_tag.text if description_tag else\"N/A\"\n",
    "    print(description)"
   ]
  },
  {
   "cell_type": "code",
   "execution_count": null,
   "id": "6eb9fb73",
   "metadata": {},
   "outputs": [],
   "source": [
    "for test in tests:\n",
    "    category_tag = test.find('td',{'class':'views-field views-field-field-article-primary-category'})\n",
    "    category = category_tag.text if category_tag else\"N/A\"\n",
    "    print(category)"
   ]
  },
  {
   "cell_type": "code",
   "execution_count": null,
   "id": "6cf7f6af",
   "metadata": {},
   "outputs": [],
   "source": [
    "for test in tests:\n",
    "    follower_tag = test.find('td',{'class':'views-field views-field-count'})\n",
    "    follower = follower_tag.text if follower_tag else\"N/A\"\n",
    "    print(follower)"
   ]
  },
  {
   "cell_type": "code",
   "execution_count": null,
   "id": "8e9f8d1c",
   "metadata": {},
   "outputs": [],
   "source": [
    "for test in tests:\n",
    "    link_tag = test.find('a')\n",
    "    link = 'https://www.programmableweb.com/'+link_tag.get('href') if link_tag else 'N/A'\n",
    "    \n",
    "    print(link)"
   ]
  },
  {
   "cell_type": "code",
   "execution_count": null,
   "id": "cbdb3ed2",
   "metadata": {},
   "outputs": [],
   "source": [
    "url_tag = soup.find('a',{'id': 'pager_id_apis_all'})"
   ]
  },
  {
   "cell_type": "code",
   "execution_count": null,
   "id": "99170b7e",
   "metadata": {},
   "outputs": [],
   "source": [
    "url= 'https://www.programmableweb.com/'+ url_tag.get('href') if url_tag else \"N/A\""
   ]
  },
  {
   "cell_type": "code",
   "execution_count": null,
   "id": "c3b508d6",
   "metadata": {},
   "outputs": [],
   "source": [
    "url"
   ]
  },
  {
   "cell_type": "code",
   "execution_count": 3,
   "id": "dc83f699",
   "metadata": {},
   "outputs": [
    {
     "name": "stdout",
     "output_type": "stream",
     "text": [
      "https://www.programmableweb.com//category/tools/api?pw_view_display_id=apis_all&page=1\n",
      "https://www.programmableweb.com//category/tools/api?pw_view_display_id=apis_all&page=2\n",
      "https://www.programmableweb.com//category/tools/api?pw_view_display_id=apis_all&page=3\n",
      "https://www.programmableweb.com//category/tools/api?pw_view_display_id=apis_all&page=4\n",
      "https://www.programmableweb.com//category/tools/api?pw_view_display_id=apis_all&page=5\n",
      "https://www.programmableweb.com//category/tools/api?pw_view_display_id=apis_all&page=6\n",
      "https://www.programmableweb.com//category/tools/api?pw_view_display_id=apis_all&page=7\n",
      "https://www.programmableweb.com//category/tools/api?pw_view_display_id=apis_all&page=8\n",
      "https://www.programmableweb.com//category/tools/api?pw_view_display_id=apis_all&page=9\n",
      "https://www.programmableweb.com//category/tools/api?pw_view_display_id=apis_all&page=10\n",
      "https://www.programmableweb.com//category/tools/api?pw_view_display_id=apis_all&page=11\n",
      "https://www.programmableweb.com//category/tools/api?pw_view_display_id=apis_all&page=12\n",
      "https://www.programmableweb.com//category/tools/api?pw_view_display_id=apis_all&page=13\n",
      "https://www.programmableweb.com//category/tools/api?pw_view_display_id=apis_all&page=14\n",
      "https://www.programmableweb.com//category/tools/api?pw_view_display_id=apis_all&page=15\n",
      "https://www.programmableweb.com//category/tools/api?pw_view_display_id=apis_all&page=16\n",
      "https://www.programmableweb.com//category/tools/api?pw_view_display_id=apis_all&page=17\n",
      "https://www.programmableweb.com//category/tools/api?pw_view_display_id=apis_all&page=18\n",
      "https://www.programmableweb.com//category/tools/api?pw_view_display_id=apis_all&page=19\n",
      "https://www.programmableweb.com//category/tools/api?pw_view_display_id=apis_all&page=20\n",
      "https://www.programmableweb.com//category/tools/api?pw_view_display_id=apis_all&page=21\n",
      "https://www.programmableweb.com//category/tools/api?pw_view_display_id=apis_all&page=22\n",
      "https://www.programmableweb.com//category/tools/api?pw_view_display_id=apis_all&page=23\n",
      "https://www.programmableweb.com//category/tools/api?pw_view_display_id=apis_all&page=24\n",
      "https://www.programmableweb.com//category/tools/api?pw_view_display_id=apis_all&page=25\n",
      "https://www.programmableweb.com//category/tools/api?pw_view_display_id=apis_all&page=26\n",
      "https://www.programmableweb.com//category/tools/api?pw_view_display_id=apis_all&page=27\n",
      "https://www.programmableweb.com//category/tools/api?pw_view_display_id=apis_all&page=28\n",
      "https://www.programmableweb.com//category/tools/api?pw_view_display_id=apis_all&page=29\n",
      "https://www.programmableweb.com//category/tools/api?pw_view_display_id=apis_all&page=30\n",
      "https://www.programmableweb.com//category/tools/api?pw_view_display_id=apis_all&page=31\n",
      "https://www.programmableweb.com//category/tools/api?pw_view_display_id=apis_all&page=32\n",
      "https://www.programmableweb.com//category/tools/api?pw_view_display_id=apis_all&page=33\n",
      "https://www.programmableweb.com//category/tools/api?pw_view_display_id=apis_all&page=34\n",
      "https://www.programmableweb.com//category/tools/api?pw_view_display_id=apis_all&page=35\n",
      "https://www.programmableweb.com//category/tools/api?pw_view_display_id=apis_all&page=36\n",
      "https://www.programmableweb.com//category/tools/api?pw_view_display_id=apis_all&page=37\n",
      "https://www.programmableweb.com//category/tools/api?pw_view_display_id=apis_all&page=38\n",
      "https://www.programmableweb.com//category/tools/api?pw_view_display_id=apis_all&page=39\n",
      "https://www.programmableweb.com//category/tools/api?pw_view_display_id=apis_all&page=40\n",
      "https://www.programmableweb.com//category/tools/api?pw_view_display_id=apis_all&page=41\n",
      "https://www.programmableweb.com//category/tools/api?pw_view_display_id=apis_all&page=42\n",
      "https://www.programmableweb.com//category/tools/api?pw_view_display_id=apis_all&page=43\n",
      "https://www.programmableweb.com//category/tools/api?pw_view_display_id=apis_all&page=44\n",
      "https://www.programmableweb.com//category/tools/api?pw_view_display_id=apis_all&page=45\n",
      "https://www.programmableweb.com//category/tools/api?pw_view_display_id=apis_all&page=46\n",
      "https://www.programmableweb.com//category/tools/api?pw_view_display_id=apis_all&page=47\n",
      "https://www.programmableweb.com//category/tools/api?pw_view_display_id=apis_all&page=48\n",
      "https://www.programmableweb.com//category/tools/api?pw_view_display_id=apis_all&page=49\n",
      "https://www.programmableweb.com//category/tools/api?pw_view_display_id=apis_all&page=50\n",
      "https://www.programmableweb.com//category/tools/api?pw_view_display_id=apis_all&page=51\n",
      "https://www.programmableweb.com//category/tools/api?pw_view_display_id=apis_all&page=52\n",
      "https://www.programmableweb.com//category/tools/api?pw_view_display_id=apis_all&page=53\n",
      "https://www.programmableweb.com//category/tools/api?pw_view_display_id=apis_all&page=54\n",
      "https://www.programmableweb.com//category/tools/api?pw_view_display_id=apis_all&page=55\n",
      "https://www.programmableweb.com//category/tools/api?pw_view_display_id=apis_all&page=56\n",
      "https://www.programmableweb.com//category/tools/api?pw_view_display_id=apis_all&page=57\n",
      "https://www.programmableweb.com//category/tools/api?pw_view_display_id=apis_all&page=58\n",
      "https://www.programmableweb.com//category/tools/api?pw_view_display_id=apis_all&page=59\n",
      "https://www.programmableweb.com//category/tools/api?pw_view_display_id=apis_all&page=60\n",
      "https://www.programmableweb.com//category/tools/api?pw_view_display_id=apis_all&page=61\n",
      "https://www.programmableweb.com//category/tools/api?pw_view_display_id=apis_all&page=62\n",
      "Total APIs 1624\n"
     ]
    }
   ],
   "source": [
    "npo_api = {}\n",
    "api_no =0\n",
    "url_no=0\n",
    "while True:\n",
    "    response = requests.get(url)\n",
    "    data= response.text\n",
    "    soup=BeautifulSoup(data,'html.parser')\n",
    "    apis=soup.find_all('tr')\n",
    "    \n",
    "\n",
    "\n",
    "    for api in apis:\n",
    "        name_tag = api.find('a')\n",
    "        name = name_tag.text if name_tag else\"N/A\"\n",
    "        \n",
    "        description_tag = api.find('td',{'class':'views-field views-field-field-api-description'})\n",
    "        description = description_tag.text if description_tag else\"N/A\"\n",
    "        \n",
    "        category_tag = api.find('td',{'class':'views-field views-field-field-article-primary-category'})\n",
    "        category = category_tag.text if category_tag else\"N/A\"\n",
    "        \n",
    "        follower_tag = api.find('td',{'class':'views-field views-field-count'})\n",
    "        follower = follower_tag.text if follower_tag else\"N/A\"\n",
    "        \n",
    "        version_tag = api.find('td',{'class':'views-field views-field-pw-version-links'})\n",
    "        version = version_tag.text if version_tag else\"N/A\"\n",
    "        \n",
    "        api_link_tag = api.find('a')\n",
    "        api_link = 'https://www.programmableweb.com/'+api_link_tag.get('href') if api_link_tag else 'N/A'\n",
    "        \n",
    "        \n",
    "        api_no+=1\n",
    "        npo_api[api_no] = [name, description, category, follower, version, api_link]\n",
    "\n",
    "#         print('Job Title', title, '\\nLocation',location, '\\nDate', date, '\\nLink', link, '\\nJob Attributes', job_attributes, '\\nJob Description', job_description,'\\n-----------------')\n",
    "    url_tag = soup.find('a',{'id': 'pager_id_apis_all'})\n",
    "    \n",
    "    if url_no==62:\n",
    "        break\n",
    " \n",
    "    if url_tag.get('href'):\n",
    "        url='https://www.programmableweb.com/' + url_tag.get('href')\n",
    "        print(url)\n",
    "        url_no+=1\n",
    "    \n",
    "    else:\n",
    "        break\n",
    "  \n",
    "        \n",
    "print('Total APIs', api_no)\n",
    "npo_api_df = pd.DataFrame.from_dict(npo_api, orient='index', columns=['API Name', 'Description', 'Category', 'Followers','Version', 'Link'])\n",
    "        "
   ]
  },
  {
   "cell_type": "code",
   "execution_count": 5,
   "id": "92c1840b",
   "metadata": {},
   "outputs": [],
   "source": [
    "npo_api_df.to_csv('apis.csv')"
   ]
  },
  {
   "cell_type": "code",
   "execution_count": null,
   "id": "873514cc",
   "metadata": {},
   "outputs": [],
   "source": []
  }
 ],
 "metadata": {
  "kernelspec": {
   "display_name": "Python 3",
   "language": "python",
   "name": "python3"
  },
  "language_info": {
   "codemirror_mode": {
    "name": "ipython",
    "version": 3
   },
   "file_extension": ".py",
   "mimetype": "text/x-python",
   "name": "python",
   "nbconvert_exporter": "python",
   "pygments_lexer": "ipython3",
   "version": "3.8.8"
  }
 },
 "nbformat": 4,
 "nbformat_minor": 5
}
